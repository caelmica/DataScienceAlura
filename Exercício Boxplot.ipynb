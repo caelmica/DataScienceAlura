{
 "cells": [
  {
   "cell_type": "code",
   "execution_count": 1,
   "id": "3d6963be",
   "metadata": {},
   "outputs": [],
   "source": [
    "%matplotlib inline\n",
    "import pandas as pd\n",
    "import matplotlib.pyplot as plt\n",
    "plt.rc('figure', figsize = (14, 6))"
   ]
  },
  {
   "cell_type": "code",
   "execution_count": 3,
   "id": "273a96b8",
   "metadata": {},
   "outputs": [],
   "source": [
    "data = pd.read_csv('dados/aluguel_amostra.csv', sep=';')"
   ]
  },
  {
   "cell_type": "code",
   "execution_count": 4,
   "id": "cdbbd4c7",
   "metadata": {},
   "outputs": [
    {
     "data": {
      "text/plain": [
       "<AxesSubplot:>"
      ]
     },
     "execution_count": 4,
     "metadata": {},
     "output_type": "execute_result"
    },
    {
     "data": {
      "image/png": "[encoded data removed]",
      "text/plain": [
       "<Figure size 1008x432 with 1 Axes>"
      ]
     },
     "metadata": {
      "needs_background": "light"
     },
     "output_type": "display_data"
    }
   ],
   "source": [
    "data.boxplot(['Valor m2'])"
   ]
  },
  {
   "cell_type": "code",
   "execution_count": 7,
   "id": "b7acb901",
   "metadata": {},
   "outputs": [],
   "source": [
    "valor = data['Valor m2']"
   ]
  },
  {
   "cell_type": "code",
   "execution_count": 8,
   "id": "c05c48a1",
   "metadata": {},
   "outputs": [],
   "source": [
    "Q1 = valor.quantile(.25)\n",
    "Q3 = valor.quantile(.75)\n",
    "IIQ = Q3 - Q1\n",
    "limite_inferior = Q1-1.5*IIQ\n",
    "limite_superior = Q3+1.5*IIQ"
   ]
  },
  {
   "cell_type": "code",
   "execution_count": 9,
   "id": "1ef3398e",
   "metadata": {},
   "outputs": [],
   "source": [
    "selecao = (valor >= limite_inferior) & (valor <= limite_superior)\n",
    "dados = data[selecao]"
   ]
  },
  {
   "cell_type": "code",
   "execution_count": 10,
   "id": "a27ccd94",
   "metadata": {},
   "outputs": [
    {
     "data": {
      "text/plain": [
       "<AxesSubplot:>"
      ]
     },
     "execution_count": 10,
     "metadata": {},
     "output_type": "execute_result"
    },
    {
     "data": {
      "image/png": "[encoded data removed]",
      "text/plain": [
       "<Figure size 1008x432 with 1 Axes>"
      ]
     },
     "metadata": {
      "needs_background": "light"
     },
     "output_type": "display_data"
    }
   ],
   "source": [
    "dados.boxplot(['Valor m2'])"
   ]
  },
  {
   "cell_type": "code",
   "execution_count": 12,
   "id": "c172af7b",
   "metadata": {},
   "outputs": [
    {
     "data": {
      "text/html": [
       "<div>\n",
       "<style scoped>\n",
       "    .dataframe tbody tr th:only-of-type {\n",
       "        vertical-align: middle;\n",
       "    }\n",
       "\n",
       "    .dataframe tbody tr th {\n",
       "        vertical-align: top;\n",
       "    }\n",
       "\n",
       "    .dataframe thead th {\n",
       "        text-align: right;\n",
       "    }\n",
       "</style>\n",
       "<table border=\"1\" class=\"dataframe\">\n",
       "  <thead>\n",
       "    <tr style=\"text-align: right;\">\n",
       "      <th></th>\n",
       "      <th>Quartos</th>\n",
       "      <th>Vagas</th>\n",
       "      <th>Suites</th>\n",
       "      <th>Area</th>\n",
       "      <th>Valor</th>\n",
       "      <th>Condominio</th>\n",
       "      <th>IPTU</th>\n",
       "      <th>Valor m2</th>\n",
       "    </tr>\n",
       "  </thead>\n",
       "  <tbody>\n",
       "    <tr>\n",
       "      <th>count</th>\n",
       "      <td>10000.000000</td>\n",
       "      <td>10000.000000</td>\n",
       "      <td>10000.000000</td>\n",
       "      <td>10000.000000</td>\n",
       "      <td>1.000000e+04</td>\n",
       "      <td>10000.000000</td>\n",
       "      <td>10000.000000</td>\n",
       "      <td>10000.000000</td>\n",
       "    </tr>\n",
       "    <tr>\n",
       "      <th>mean</th>\n",
       "      <td>2.517100</td>\n",
       "      <td>1.414700</td>\n",
       "      <td>0.955900</td>\n",
       "      <td>137.410600</td>\n",
       "      <td>5.396243e+03</td>\n",
       "      <td>1238.458500</td>\n",
       "      <td>565.636400</td>\n",
       "      <td>37.076363</td>\n",
       "    </tr>\n",
       "    <tr>\n",
       "      <th>std</th>\n",
       "      <td>1.080382</td>\n",
       "      <td>19.629698</td>\n",
       "      <td>1.134497</td>\n",
       "      <td>143.078306</td>\n",
       "      <td>4.768429e+04</td>\n",
       "      <td>1400.456729</td>\n",
       "      <td>4845.311825</td>\n",
       "      <td>175.295886</td>\n",
       "    </tr>\n",
       "    <tr>\n",
       "      <th>min</th>\n",
       "      <td>0.000000</td>\n",
       "      <td>0.000000</td>\n",
       "      <td>0.000000</td>\n",
       "      <td>10.000000</td>\n",
       "      <td>1.000000e+02</td>\n",
       "      <td>0.000000</td>\n",
       "      <td>0.000000</td>\n",
       "      <td>2.780000</td>\n",
       "    </tr>\n",
       "    <tr>\n",
       "      <th>25%</th>\n",
       "      <td>2.000000</td>\n",
       "      <td>0.000000</td>\n",
       "      <td>0.000000</td>\n",
       "      <td>65.000000</td>\n",
       "      <td>1.600000e+03</td>\n",
       "      <td>520.000000</td>\n",
       "      <td>0.000000</td>\n",
       "      <td>21.250000</td>\n",
       "    </tr>\n",
       "    <tr>\n",
       "      <th>50%</th>\n",
       "      <td>2.000000</td>\n",
       "      <td>1.000000</td>\n",
       "      <td>1.000000</td>\n",
       "      <td>90.000000</td>\n",
       "      <td>2.700000e+03</td>\n",
       "      <td>890.000000</td>\n",
       "      <td>125.000000</td>\n",
       "      <td>30.000000</td>\n",
       "    </tr>\n",
       "    <tr>\n",
       "      <th>75%</th>\n",
       "      <td>3.000000</td>\n",
       "      <td>2.000000</td>\n",
       "      <td>1.000000</td>\n",
       "      <td>155.000000</td>\n",
       "      <td>5.500000e+03</td>\n",
       "      <td>1545.500000</td>\n",
       "      <td>377.000000</td>\n",
       "      <td>42.310000</td>\n",
       "    </tr>\n",
       "    <tr>\n",
       "      <th>max</th>\n",
       "      <td>14.000000</td>\n",
       "      <td>1960.000000</td>\n",
       "      <td>14.000000</td>\n",
       "      <td>3000.000000</td>\n",
       "      <td>4.500000e+06</td>\n",
       "      <td>50500.000000</td>\n",
       "      <td>450625.000000</td>\n",
       "      <td>15000.000000</td>\n",
       "    </tr>\n",
       "  </tbody>\n",
       "</table>\n",
       "</div>"
      ],
      "text/plain": [
       "            Quartos         Vagas        Suites          Area         Valor  \\\n",
       "count  10000.000000  10000.000000  10000.000000  10000.000000  1.000000e+04   \n",
       "mean       2.517100      1.414700      0.955900    137.410600  5.396243e+03   \n",
       "std        1.080382     19.629698      1.134497    143.078306  4.768429e+04   \n",
       "min        0.000000      0.000000      0.000000     10.000000  1.000000e+02   \n",
       "25%        2.000000      0.000000      0.000000     65.000000  1.600000e+03   \n",
       "50%        2.000000      1.000000      1.000000     90.000000  2.700000e+03   \n",
       "75%        3.000000      2.000000      1.000000    155.000000  5.500000e+03   \n",
       "max       14.000000   1960.000000     14.000000   3000.000000  4.500000e+06   \n",
       "\n",
       "         Condominio           IPTU      Valor m2  \n",
       "count  10000.000000   10000.000000  10000.000000  \n",
       "mean    1238.458500     565.636400     37.076363  \n",
       "std     1400.456729    4845.311825    175.295886  \n",
       "min        0.000000       0.000000      2.780000  \n",
       "25%      520.000000       0.000000     21.250000  \n",
       "50%      890.000000     125.000000     30.000000  \n",
       "75%     1545.500000     377.000000     42.310000  \n",
       "max    50500.000000  450625.000000  15000.000000  "
      ]
     },
     "execution_count": 12,
     "metadata": {},
     "output_type": "execute_result"
    }
   ],
   "source": [
    "data.describe()"
   ]
  },
  {
   "cell_type": "code",
   "execution_count": 13,
   "id": "35b364c1",
   "metadata": {},
   "outputs": [
    {
     "data": {
      "text/plain": [
       "21.060000000000002"
      ]
     },
     "execution_count": 13,
     "metadata": {},
     "output_type": "execute_result"
    }
   ],
   "source": [
    "IIQ"
   ]
  },
  {
   "cell_type": "code",
   "execution_count": 14,
   "id": "57d7e600",
   "metadata": {},
   "outputs": [
    {
     "data": {
      "text/plain": [
       "-10.340000000000003"
      ]
     },
     "execution_count": 14,
     "metadata": {},
     "output_type": "execute_result"
    }
   ],
   "source": [
    "Q1 - 1.5 * IIQ"
   ]
  },
  {
   "cell_type": "code",
   "execution_count": null,
   "id": "c639469f",
   "metadata": {},
   "outputs": [],
   "source": []
  }
 ],
 "metadata": {
  "kernelspec": {
   "display_name": "Python 3 (ipykernel)",
   "language": "python",
   "name": "python3"
  },
  "language_info": {
   "codemirror_mode": {
    "name": "ipython",
    "version": 3
   },
   "file_extension": ".py",
   "mimetype": "text/x-python",
   "name": "python",
   "nbconvert_exporter": "python",
   "pygments_lexer": "ipython3",
   "version": "3.9.7"
  }
 },
 "nbformat": 4,
 "nbformat_minor": 5
}

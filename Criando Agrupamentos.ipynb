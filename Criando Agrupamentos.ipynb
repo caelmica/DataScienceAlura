{
 "cells": [
  {
   "cell_type": "markdown",
   "id": "3223d041",
   "metadata": {},
   "source": [
    "# Relatório de Análise VII"
   ]
  },
  {
   "cell_type": "markdown",
   "id": "49ca0748",
   "metadata": {},
   "source": [
    "## Criando agrupamentos"
   ]
  },
  {
   "cell_type": "code",
   "execution_count": 24,
   "id": "92961529",
   "metadata": {},
   "outputs": [],
   "source": [
    "import pandas as pd"
   ]
  },
  {
   "cell_type": "code",
   "execution_count": 25,
   "id": "a100c26a",
   "metadata": {},
   "outputs": [],
   "source": [
    "dados = pd.read_csv('dados/aluguel_residencial.csv', sep = ';')"
   ]
  },
  {
   "cell_type": "code",
   "execution_count": 26,
   "id": "7e825e2b",
   "metadata": {},
   "outputs": [
    {
     "data": {
      "text/html": [
       "<div>\n",
       "<style scoped>\n",
       "    .dataframe tbody tr th:only-of-type {\n",
       "        vertical-align: middle;\n",
       "    }\n",
       "\n",
       "    .dataframe tbody tr th {\n",
       "        vertical-align: top;\n",
       "    }\n",
       "\n",
       "    .dataframe thead th {\n",
       "        text-align: right;\n",
       "    }\n",
       "</style>\n",
       "<table border=\"1\" class=\"dataframe\">\n",
       "  <thead>\n",
       "    <tr style=\"text-align: right;\">\n",
       "      <th></th>\n",
       "      <th>Tipo</th>\n",
       "      <th>Bairro</th>\n",
       "      <th>Quartos</th>\n",
       "      <th>Vagas</th>\n",
       "      <th>Suites</th>\n",
       "      <th>Area</th>\n",
       "      <th>Valor</th>\n",
       "      <th>Condominio</th>\n",
       "      <th>IPTU</th>\n",
       "      <th>Valor m2</th>\n",
       "      <th>Tipo Agregado</th>\n",
       "    </tr>\n",
       "  </thead>\n",
       "  <tbody>\n",
       "    <tr>\n",
       "      <th>0</th>\n",
       "      <td>Quitinete</td>\n",
       "      <td>Copacabana</td>\n",
       "      <td>1</td>\n",
       "      <td>0</td>\n",
       "      <td>0</td>\n",
       "      <td>40</td>\n",
       "      <td>1700.0</td>\n",
       "      <td>500.0</td>\n",
       "      <td>60.0</td>\n",
       "      <td>42.50</td>\n",
       "      <td>Apartamento</td>\n",
       "    </tr>\n",
       "    <tr>\n",
       "      <th>1</th>\n",
       "      <td>Casa</td>\n",
       "      <td>Jardim Botânico</td>\n",
       "      <td>2</td>\n",
       "      <td>0</td>\n",
       "      <td>1</td>\n",
       "      <td>100</td>\n",
       "      <td>7000.0</td>\n",
       "      <td>0.0</td>\n",
       "      <td>0.0</td>\n",
       "      <td>70.00</td>\n",
       "      <td>Casa</td>\n",
       "    </tr>\n",
       "    <tr>\n",
       "      <th>2</th>\n",
       "      <td>Apartamento</td>\n",
       "      <td>Centro</td>\n",
       "      <td>1</td>\n",
       "      <td>0</td>\n",
       "      <td>0</td>\n",
       "      <td>15</td>\n",
       "      <td>800.0</td>\n",
       "      <td>390.0</td>\n",
       "      <td>20.0</td>\n",
       "      <td>53.33</td>\n",
       "      <td>Apartamento</td>\n",
       "    </tr>\n",
       "    <tr>\n",
       "      <th>3</th>\n",
       "      <td>Apartamento</td>\n",
       "      <td>Higienópolis</td>\n",
       "      <td>1</td>\n",
       "      <td>0</td>\n",
       "      <td>0</td>\n",
       "      <td>48</td>\n",
       "      <td>800.0</td>\n",
       "      <td>230.0</td>\n",
       "      <td>0.0</td>\n",
       "      <td>16.67</td>\n",
       "      <td>Apartamento</td>\n",
       "    </tr>\n",
       "    <tr>\n",
       "      <th>4</th>\n",
       "      <td>Apartamento</td>\n",
       "      <td>Cachambi</td>\n",
       "      <td>2</td>\n",
       "      <td>0</td>\n",
       "      <td>0</td>\n",
       "      <td>50</td>\n",
       "      <td>1300.0</td>\n",
       "      <td>301.0</td>\n",
       "      <td>17.0</td>\n",
       "      <td>26.00</td>\n",
       "      <td>Apartamento</td>\n",
       "    </tr>\n",
       "    <tr>\n",
       "      <th>5</th>\n",
       "      <td>Casa de Condomínio</td>\n",
       "      <td>Barra da Tijuca</td>\n",
       "      <td>5</td>\n",
       "      <td>4</td>\n",
       "      <td>5</td>\n",
       "      <td>750</td>\n",
       "      <td>22000.0</td>\n",
       "      <td>0.0</td>\n",
       "      <td>0.0</td>\n",
       "      <td>29.33</td>\n",
       "      <td>Casa</td>\n",
       "    </tr>\n",
       "    <tr>\n",
       "      <th>6</th>\n",
       "      <td>Casa de Condomínio</td>\n",
       "      <td>Ramos</td>\n",
       "      <td>2</td>\n",
       "      <td>2</td>\n",
       "      <td>0</td>\n",
       "      <td>65</td>\n",
       "      <td>1000.0</td>\n",
       "      <td>0.0</td>\n",
       "      <td>0.0</td>\n",
       "      <td>15.38</td>\n",
       "      <td>Casa</td>\n",
       "    </tr>\n",
       "    <tr>\n",
       "      <th>7</th>\n",
       "      <td>Apartamento</td>\n",
       "      <td>Grajaú</td>\n",
       "      <td>2</td>\n",
       "      <td>1</td>\n",
       "      <td>0</td>\n",
       "      <td>70</td>\n",
       "      <td>1500.0</td>\n",
       "      <td>642.0</td>\n",
       "      <td>74.0</td>\n",
       "      <td>21.43</td>\n",
       "      <td>Apartamento</td>\n",
       "    </tr>\n",
       "    <tr>\n",
       "      <th>8</th>\n",
       "      <td>Apartamento</td>\n",
       "      <td>Lins de Vasconcelos</td>\n",
       "      <td>3</td>\n",
       "      <td>1</td>\n",
       "      <td>1</td>\n",
       "      <td>90</td>\n",
       "      <td>1500.0</td>\n",
       "      <td>455.0</td>\n",
       "      <td>14.0</td>\n",
       "      <td>16.67</td>\n",
       "      <td>Apartamento</td>\n",
       "    </tr>\n",
       "    <tr>\n",
       "      <th>9</th>\n",
       "      <td>Apartamento</td>\n",
       "      <td>Copacabana</td>\n",
       "      <td>1</td>\n",
       "      <td>0</td>\n",
       "      <td>1</td>\n",
       "      <td>40</td>\n",
       "      <td>2000.0</td>\n",
       "      <td>561.0</td>\n",
       "      <td>50.0</td>\n",
       "      <td>50.00</td>\n",
       "      <td>Apartamento</td>\n",
       "    </tr>\n",
       "  </tbody>\n",
       "</table>\n",
       "</div>"
      ],
      "text/plain": [
       "                 Tipo               Bairro  Quartos  Vagas  Suites  Area  \\\n",
       "0           Quitinete           Copacabana        1      0       0    40   \n",
       "1                Casa      Jardim Botânico        2      0       1   100   \n",
       "2         Apartamento               Centro        1      0       0    15   \n",
       "3         Apartamento         Higienópolis        1      0       0    48   \n",
       "4         Apartamento             Cachambi        2      0       0    50   \n",
       "5  Casa de Condomínio      Barra da Tijuca        5      4       5   750   \n",
       "6  Casa de Condomínio                Ramos        2      2       0    65   \n",
       "7         Apartamento               Grajaú        2      1       0    70   \n",
       "8         Apartamento  Lins de Vasconcelos        3      1       1    90   \n",
       "9         Apartamento           Copacabana        1      0       1    40   \n",
       "\n",
       "     Valor  Condominio  IPTU  Valor m2 Tipo Agregado  \n",
       "0   1700.0       500.0  60.0     42.50   Apartamento  \n",
       "1   7000.0         0.0   0.0     70.00          Casa  \n",
       "2    800.0       390.0  20.0     53.33   Apartamento  \n",
       "3    800.0       230.0   0.0     16.67   Apartamento  \n",
       "4   1300.0       301.0  17.0     26.00   Apartamento  \n",
       "5  22000.0         0.0   0.0     29.33          Casa  \n",
       "6   1000.0         0.0   0.0     15.38          Casa  \n",
       "7   1500.0       642.0  74.0     21.43   Apartamento  \n",
       "8   1500.0       455.0  14.0     16.67   Apartamento  \n",
       "9   2000.0       561.0  50.0     50.00   Apartamento  "
      ]
     },
     "execution_count": 26,
     "metadata": {},
     "output_type": "execute_result"
    }
   ],
   "source": [
    "dados.head(10)"
   ]
  },
  {
   "cell_type": "code",
   "execution_count": 27,
   "id": "7ba2f3d8",
   "metadata": {},
   "outputs": [
    {
     "data": {
      "text/plain": [
       "5046.172821405663"
      ]
     },
     "execution_count": 27,
     "metadata": {},
     "output_type": "execute_result"
    }
   ],
   "source": [
    "dados['Valor'].mean()"
   ]
  },
  {
   "cell_type": "markdown",
   "id": "d61a5269",
   "metadata": {},
   "source": [
    "https://pandas.pydata.org/pandas-docs/stable/reference/frame.html#computations-descriptive-stats"
   ]
  },
  {
   "cell_type": "code",
   "execution_count": 28,
   "id": "d9b5a0cb",
   "metadata": {},
   "outputs": [],
   "source": [
    "bairros = ['Barra da Tijuca', 'Copacabana','Ipanema', 'Leblon','Botafogo','Flamengo', 'Tijuca']\n",
    "selecao = dados ['Bairro'].isin(bairros)"
   ]
  },
  {
   "cell_type": "code",
   "execution_count": 29,
   "id": "f8817d5c",
   "metadata": {},
   "outputs": [],
   "source": [
    "dados = dados[selecao]"
   ]
  },
  {
   "cell_type": "code",
   "execution_count": 30,
   "id": "ef937905",
   "metadata": {},
   "outputs": [
    {
     "data": {
      "text/plain": [
       "0          Copacabana\n",
       "5     Barra da Tijuca\n",
       "15             Tijuca\n",
       "19            Ipanema\n",
       "23           Botafogo\n",
       "27             Leblon\n",
       "78           Flamengo\n",
       "Name: Bairro, dtype: object"
      ]
     },
     "execution_count": 30,
     "metadata": {},
     "output_type": "execute_result"
    }
   ],
   "source": [
    "dados['Bairro'].drop_duplicates()"
   ]
  },
  {
   "cell_type": "code",
   "execution_count": 31,
   "id": "567d2713",
   "metadata": {},
   "outputs": [],
   "source": [
    "grupo_bairro = dados.groupby('Bairro')"
   ]
  },
  {
   "cell_type": "code",
   "execution_count": 32,
   "id": "124a6dfa",
   "metadata": {},
   "outputs": [
    {
     "data": {
      "text/plain": [
       "pandas.core.groupby.generic.DataFrameGroupBy"
      ]
     },
     "execution_count": 32,
     "metadata": {},
     "output_type": "execute_result"
    }
   ],
   "source": [
    "type(grupo_bairro)"
   ]
  },
  {
   "cell_type": "code",
   "execution_count": 33,
   "id": "c91a69c4",
   "metadata": {},
   "outputs": [
    {
     "data": {
      "text/plain": [
       "<pandas.core.groupby.generic.DataFrameGroupBy object at 0x000001A4575FA250>"
      ]
     },
     "execution_count": 33,
     "metadata": {},
     "output_type": "execute_result"
    }
   ],
   "source": [
    "grupo_bairro"
   ]
  },
  {
   "cell_type": "code",
   "execution_count": 34,
   "id": "933b3307",
   "metadata": {},
   "outputs": [
    {
     "name": "stdout",
     "output_type": "stream",
     "text": [
      "Barra da Tijuca\n",
      "Botafogo\n",
      "Copacabana\n",
      "Flamengo\n",
      "Ipanema\n",
      "Leblon\n",
      "Tijuca\n"
     ]
    }
   ],
   "source": [
    "for bairro, data in grupo_bairro:\n",
    "    print(bairro)"
   ]
  },
  {
   "cell_type": "code",
   "execution_count": 35,
   "id": "86b50767",
   "metadata": {},
   "outputs": [
    {
     "name": "stdout",
     "output_type": "stream",
     "text": [
      "                     Tipo           Bairro  Quartos  Vagas  Suites  Area  \\\n",
      "5      Casa de Condomínio  Barra da Tijuca        5      4       5   750   \n",
      "14            Apartamento  Barra da Tijuca        2      1       1    67   \n",
      "16     Casa de Condomínio  Barra da Tijuca        4      3       2   466   \n",
      "21            Apartamento  Barra da Tijuca        3      3       1   175   \n",
      "30            Apartamento  Barra da Tijuca        3      1       2    70   \n",
      "...                   ...              ...      ...    ...     ...   ...   \n",
      "21801  Casa de Condomínio  Barra da Tijuca        3      5       3  1000   \n",
      "21811         Apartamento  Barra da Tijuca        2      1       1    85   \n",
      "21812         Apartamento  Barra da Tijuca        3      2       0    98   \n",
      "21813         Apartamento  Barra da Tijuca        3      2       2   140   \n",
      "21820  Casa de Condomínio  Barra da Tijuca        5      3       4   450   \n",
      "\n",
      "         Valor  Condominio    IPTU  Valor m2 Tipo Agregado  \n",
      "5      22000.0         0.0     0.0     29.33          Casa  \n",
      "14      1700.0       589.0   147.0     25.37   Apartamento  \n",
      "16      7500.0      2695.0     0.0     16.09          Casa  \n",
      "21      4200.0      1500.0   500.0     24.00   Apartamento  \n",
      "30      1800.0      1095.0   140.0     25.71   Apartamento  \n",
      "...        ...         ...     ...       ...           ...  \n",
      "21801  20000.0      3000.0     0.0     20.00          Casa  \n",
      "21811   2250.0      1561.0   197.0     26.47   Apartamento  \n",
      "21812   2300.0       887.0   177.0     23.47   Apartamento  \n",
      "21813   5500.0      1900.0   700.0     39.29   Apartamento  \n",
      "21820  15000.0      1711.0  2332.0     33.33          Casa  \n",
      "\n",
      "[3863 rows x 11 columns]\n",
      "              Tipo    Bairro  Quartos  Vagas  Suites  Area   Valor  \\\n",
      "23     Apartamento  Botafogo        2      1       0    76  2500.0   \n",
      "48     Apartamento  Botafogo        3      1       1   108  5950.0   \n",
      "87     Apartamento  Botafogo        2      1       1    83  2800.0   \n",
      "88     Apartamento  Botafogo        2      1       1    80  4300.0   \n",
      "111    Apartamento  Botafogo        3      1       1   100  5500.0   \n",
      "...            ...       ...      ...    ...     ...   ...     ...   \n",
      "21660  Apartamento  Botafogo        2      0       0    60  1900.0   \n",
      "21666  Apartamento  Botafogo        1      0       0    51  2000.0   \n",
      "21715  Apartamento  Botafogo        2      1       1    52  3100.0   \n",
      "21746  Apartamento  Botafogo        2      1       2    84  4230.0   \n",
      "21790  Apartamento  Botafogo        3      2       1   100  4500.0   \n",
      "\n",
      "       Condominio   IPTU  Valor m2 Tipo Agregado  \n",
      "23          740.0    0.0     32.89   Apartamento  \n",
      "48         1405.0  289.0     55.09   Apartamento  \n",
      "87          560.0  138.0     33.73   Apartamento  \n",
      "88         1178.0  187.0     53.75   Apartamento  \n",
      "111        1300.0  220.0     55.00   Apartamento  \n",
      "...           ...    ...       ...           ...  \n",
      "21660       900.0   75.0     31.67   Apartamento  \n",
      "21666       590.0   26.0     39.22   Apartamento  \n",
      "21715      1700.0  330.0     59.62   Apartamento  \n",
      "21746      1130.0  260.0     50.36   Apartamento  \n",
      "21790      1600.0  205.0     45.00   Apartamento  \n",
      "\n",
      "[873 rows x 11 columns]\n",
      "              Tipo      Bairro  Quartos  Vagas  Suites  Area    Valor  \\\n",
      "0        Quitinete  Copacabana        1      0       0    40   1700.0   \n",
      "9      Apartamento  Copacabana        1      0       1    40   2000.0   \n",
      "10       Quitinete  Copacabana        1      0       0    27   1800.0   \n",
      "11     Apartamento  Copacabana        4      3       1   243  13000.0   \n",
      "24     Apartamento  Copacabana        3      1       2   378  10000.0   \n",
      "...            ...         ...      ...    ...     ...   ...      ...   \n",
      "21783  Apartamento  Copacabana        1      0       0    60   2400.0   \n",
      "21795  Apartamento  Copacabana        2      0       0    67   2450.0   \n",
      "21809  Apartamento  Copacabana        2      0       1    70   4100.0   \n",
      "21810  Apartamento  Copacabana        1      0       0    50   1950.0   \n",
      "21815    Quitinete  Copacabana        1      0       0    22   1500.0   \n",
      "\n",
      "       Condominio   IPTU  Valor m2 Tipo Agregado  \n",
      "0           500.0   60.0     42.50   Apartamento  \n",
      "9           561.0   50.0     50.00   Apartamento  \n",
      "10          501.0    0.0     66.67   Apartamento  \n",
      "11         2000.0  803.0     53.50   Apartamento  \n",
      "24         2150.0  700.0     26.46   Apartamento  \n",
      "...           ...    ...       ...           ...  \n",
      "21783       530.0   78.0     40.00   Apartamento  \n",
      "21795       679.0   80.0     36.57   Apartamento  \n",
      "21809       700.0   90.0     58.57   Apartamento  \n",
      "21810       450.0   70.0     39.00   Apartamento  \n",
      "21815       286.0  200.0     68.18   Apartamento  \n",
      "\n",
      "[2644 rows x 11 columns]\n",
      "              Tipo    Bairro  Quartos  Vagas  Suites  Area   Valor  \\\n",
      "78       Quitinete  Flamengo        0      0       0    28  1000.0   \n",
      "138    Apartamento  Flamengo        1      0       0    40  1900.0   \n",
      "218    Apartamento  Flamengo        1      1       0    48  2100.0   \n",
      "284    Apartamento  Flamengo        2      0       0    85  2700.0   \n",
      "321    Apartamento  Flamengo        2      1       0    57  2800.0   \n",
      "...            ...       ...      ...    ...     ...   ...     ...   \n",
      "21704  Apartamento  Flamengo        2      0       0    77  1700.0   \n",
      "21728    Quitinete  Flamengo        1      0       0    23   900.0   \n",
      "21731  Apartamento  Flamengo        3      1       0   169  5200.0   \n",
      "21740  Apartamento  Flamengo        3      0       1   115  3500.0   \n",
      "21794  Apartamento  Flamengo        1      0       0    48  2200.0   \n",
      "\n",
      "       Condominio    IPTU  Valor m2 Tipo Agregado  \n",
      "78          581.0    53.0     35.71   Apartamento  \n",
      "138         430.0    54.0     47.50   Apartamento  \n",
      "218         580.0    70.0     43.75   Apartamento  \n",
      "284         800.0  1150.0     31.76   Apartamento  \n",
      "321         832.0    98.0     49.12   Apartamento  \n",
      "...           ...     ...       ...           ...  \n",
      "21704       900.0   131.0     22.08   Apartamento  \n",
      "21728       605.0     0.0     39.13   Apartamento  \n",
      "21731      1584.0   386.0     30.77   Apartamento  \n",
      "21740       970.0   130.0     30.43   Apartamento  \n",
      "21794       478.0     0.0     45.83   Apartamento  \n",
      "\n",
      "[714 rows x 11 columns]\n",
      "              Tipo   Bairro  Quartos  Vagas  Suites  Area    Valor  \\\n",
      "19     Apartamento  Ipanema        3      1       1   125   7000.0   \n",
      "39     Apartamento  Ipanema        1      0       0    35   2000.0   \n",
      "40     Apartamento  Ipanema        1      0       0    38   1400.0   \n",
      "45     Apartamento  Ipanema        3      1       0    87   3200.0   \n",
      "52     Apartamento  Ipanema        3      2       1   150   8000.0   \n",
      "...            ...      ...      ...    ...     ...   ...      ...   \n",
      "21745  Apartamento  Ipanema        4      2       3   203  12000.0   \n",
      "21754  Apartamento  Ipanema        3      1       1   140   7200.0   \n",
      "21788  Apartamento  Ipanema        3      1       1   118   6000.0   \n",
      "21796  Apartamento  Ipanema        1      0       0    55   2000.0   \n",
      "21817  Apartamento  Ipanema        3      1       2   150  15000.0   \n",
      "\n",
      "       Condominio   IPTU  Valor m2 Tipo Agregado  \n",
      "19         2100.0  463.0     56.00   Apartamento  \n",
      "39          650.0   75.0     57.14   Apartamento  \n",
      "40          530.0   77.0     36.84   Apartamento  \n",
      "45         1305.0  217.0     36.78   Apartamento  \n",
      "52         2400.0    0.0     53.33   Apartamento  \n",
      "...           ...    ...       ...           ...  \n",
      "21745      1650.0  538.0     59.11   Apartamento  \n",
      "21754      2900.0  850.0     51.43   Apartamento  \n",
      "21788       980.0  250.0     50.85   Apartamento  \n",
      "21796       630.0   19.0     36.36   Apartamento  \n",
      "21817      1400.0  600.0    100.00   Apartamento  \n",
      "\n",
      "[1764 rows x 11 columns]\n",
      "              Tipo  Bairro  Quartos  Vagas  Suites  Area    Valor  Condominio  \\\n",
      "27     Apartamento  Leblon        3      1       0   110   3900.0      1500.0   \n",
      "59     Apartamento  Leblon        2      1       1    80   3500.0       990.0   \n",
      "90     Apartamento  Leblon        3      2       1   147   7500.0      1028.0   \n",
      "97     Apartamento  Leblon        3      1       0    85   3900.0       800.0   \n",
      "115    Apartamento  Leblon        4      4       4   380  40000.0      4700.0   \n",
      "...            ...     ...      ...    ...     ...   ...      ...         ...   \n",
      "21786  Apartamento  Leblon        3      2       1   200  16000.0      4200.0   \n",
      "21787  Apartamento  Leblon        4      3       2   280  10000.0      3315.0   \n",
      "21808  Apartamento  Leblon        1      1       1    50   4300.0      1730.0   \n",
      "21816  Apartamento  Leblon        3      0       1    80   3000.0      1010.0   \n",
      "21825  Apartamento  Leblon        2      0       0    70   3000.0       760.0   \n",
      "\n",
      "         IPTU  Valor m2 Tipo Agregado  \n",
      "27      120.0     35.45   Apartamento  \n",
      "59      245.0     43.75   Apartamento  \n",
      "90      247.0     51.02   Apartamento  \n",
      "97     1211.0     45.88   Apartamento  \n",
      "115    1500.0    105.26   Apartamento  \n",
      "...       ...       ...           ...  \n",
      "21786   850.0     80.00   Apartamento  \n",
      "21787   770.0     35.71   Apartamento  \n",
      "21808   259.0     86.00   Apartamento  \n",
      "21816   249.0     37.50   Apartamento  \n",
      "21825     0.0     42.86   Apartamento  \n",
      "\n",
      "[1258 rows x 11 columns]\n",
      "              Tipo  Bairro  Quartos  Vagas  Suites  Area   Valor  Condominio  \\\n",
      "15     Apartamento  Tijuca        2      1       0   110  1900.0       700.0   \n",
      "18     Apartamento  Tijuca        2      1       0    78  2000.0       700.0   \n",
      "20     Apartamento  Tijuca        1      0       0    48   750.0       772.0   \n",
      "80     Apartamento  Tijuca        2      1       0    80  1800.0      1100.0   \n",
      "82     Apartamento  Tijuca        3      1       0   172  2700.0       780.0   \n",
      "...            ...     ...      ...    ...     ...   ...     ...         ...   \n",
      "21675  Apartamento  Tijuca        2      1       0    78  1800.0       620.0   \n",
      "21714  Apartamento  Tijuca        2      0       0    69  1700.0       760.0   \n",
      "21729  Apartamento  Tijuca        2      3       0    70  1680.0       230.0   \n",
      "21773  Apartamento  Tijuca        3      1       0    75  1900.0       860.0   \n",
      "21818  Apartamento  Tijuca        1      0       0    28  1000.0       360.0   \n",
      "\n",
      "        IPTU  Valor m2 Tipo Agregado  \n",
      "15     138.0     17.27   Apartamento  \n",
      "18       0.0     25.64   Apartamento  \n",
      "20      25.0     15.62   Apartamento  \n",
      "80      84.0     22.50   Apartamento  \n",
      "82     170.0     15.70   Apartamento  \n",
      "...      ...       ...           ...  \n",
      "21675   62.0     23.08   Apartamento  \n",
      "21714   62.0     24.64   Apartamento  \n",
      "21729   45.0     24.00   Apartamento  \n",
      "21773  141.0     25.33   Apartamento  \n",
      "21818   25.0     35.71   Apartamento  \n",
      "\n",
      "[1100 rows x 11 columns]\n"
     ]
    }
   ],
   "source": [
    "for bairro, data in grupo_bairro:\n",
    "    print(data)"
   ]
  },
  {
   "cell_type": "code",
   "execution_count": 36,
   "id": "fce10468",
   "metadata": {},
   "outputs": [
    {
     "name": "stdout",
     "output_type": "stream",
     "text": [
      "Barra da Tijuca -> R$7069.55\n",
      "Botafogo -> R$8791.83\n",
      "Copacabana -> R$4126.68\n",
      "Flamengo -> R$4113.53\n",
      "Ipanema -> R$9352.00\n",
      "Leblon -> R$8746.34\n",
      "Tijuca -> R$2043.52\n"
     ]
    }
   ],
   "source": [
    "for bairro, data in grupo_bairro:\n",
    "    print(f'{bairro} -> R${data.Valor.mean():.2f}')"
   ]
  },
  {
   "cell_type": "code",
   "execution_count": 37,
   "id": "ac377f05",
   "metadata": {},
   "outputs": [
    {
     "data": {
      "text/html": [
       "<div>\n",
       "<style scoped>\n",
       "    .dataframe tbody tr th:only-of-type {\n",
       "        vertical-align: middle;\n",
       "    }\n",
       "\n",
       "    .dataframe tbody tr th {\n",
       "        vertical-align: top;\n",
       "    }\n",
       "\n",
       "    .dataframe thead th {\n",
       "        text-align: right;\n",
       "    }\n",
       "</style>\n",
       "<table border=\"1\" class=\"dataframe\">\n",
       "  <thead>\n",
       "    <tr style=\"text-align: right;\">\n",
       "      <th></th>\n",
       "      <th>Valor</th>\n",
       "      <th>Condominio</th>\n",
       "    </tr>\n",
       "    <tr>\n",
       "      <th>Bairro</th>\n",
       "      <th></th>\n",
       "      <th></th>\n",
       "    </tr>\n",
       "  </thead>\n",
       "  <tbody>\n",
       "    <tr>\n",
       "      <th>Barra da Tijuca</th>\n",
       "      <td>7069.55</td>\n",
       "      <td>3591.01</td>\n",
       "    </tr>\n",
       "    <tr>\n",
       "      <th>Botafogo</th>\n",
       "      <td>8791.83</td>\n",
       "      <td>976.28</td>\n",
       "    </tr>\n",
       "    <tr>\n",
       "      <th>Copacabana</th>\n",
       "      <td>4126.68</td>\n",
       "      <td>1148.68</td>\n",
       "    </tr>\n",
       "    <tr>\n",
       "      <th>Flamengo</th>\n",
       "      <td>4113.53</td>\n",
       "      <td>1102.15</td>\n",
       "    </tr>\n",
       "    <tr>\n",
       "      <th>Ipanema</th>\n",
       "      <td>9352.00</td>\n",
       "      <td>2244.44</td>\n",
       "    </tr>\n",
       "    <tr>\n",
       "      <th>Leblon</th>\n",
       "      <td>8746.34</td>\n",
       "      <td>2107.18</td>\n",
       "    </tr>\n",
       "    <tr>\n",
       "      <th>Tijuca</th>\n",
       "      <td>2043.52</td>\n",
       "      <td>711.69</td>\n",
       "    </tr>\n",
       "  </tbody>\n",
       "</table>\n",
       "</div>"
      ],
      "text/plain": [
       "                   Valor  Condominio\n",
       "Bairro                              \n",
       "Barra da Tijuca  7069.55     3591.01\n",
       "Botafogo         8791.83      976.28\n",
       "Copacabana       4126.68     1148.68\n",
       "Flamengo         4113.53     1102.15\n",
       "Ipanema          9352.00     2244.44\n",
       "Leblon           8746.34     2107.18\n",
       "Tijuca           2043.52      711.69"
      ]
     },
     "execution_count": 37,
     "metadata": {},
     "output_type": "execute_result"
    }
   ],
   "source": [
    "grupo_bairro[['Valor', 'Condominio']].mean().round(2)"
   ]
  },
  {
   "cell_type": "markdown",
   "id": "326bcfc7",
   "metadata": {},
   "source": [
    " ## Estatísticas Descritivas"
   ]
  },
  {
   "cell_type": "code",
   "execution_count": 43,
   "id": "8b6f9fc0",
   "metadata": {},
   "outputs": [
    {
     "data": {
      "text/html": [
       "<div>\n",
       "<style scoped>\n",
       "    .dataframe tbody tr th:only-of-type {\n",
       "        vertical-align: middle;\n",
       "    }\n",
       "\n",
       "    .dataframe tbody tr th {\n",
       "        vertical-align: top;\n",
       "    }\n",
       "\n",
       "    .dataframe thead th {\n",
       "        text-align: right;\n",
       "    }\n",
       "</style>\n",
       "<table border=\"1\" class=\"dataframe\">\n",
       "  <thead>\n",
       "    <tr style=\"text-align: right;\">\n",
       "      <th></th>\n",
       "      <th>count</th>\n",
       "      <th>mean</th>\n",
       "      <th>std</th>\n",
       "      <th>min</th>\n",
       "      <th>25%</th>\n",
       "      <th>50%</th>\n",
       "      <th>75%</th>\n",
       "      <th>max</th>\n",
       "    </tr>\n",
       "    <tr>\n",
       "      <th>Bairro</th>\n",
       "      <th></th>\n",
       "      <th></th>\n",
       "      <th></th>\n",
       "      <th></th>\n",
       "      <th></th>\n",
       "      <th></th>\n",
       "      <th></th>\n",
       "      <th></th>\n",
       "    </tr>\n",
       "  </thead>\n",
       "  <tbody>\n",
       "    <tr>\n",
       "      <th>Barra da Tijuca</th>\n",
       "      <td>3863.0</td>\n",
       "      <td>7069.55</td>\n",
       "      <td>11874.15</td>\n",
       "      <td>800.0</td>\n",
       "      <td>2500.0</td>\n",
       "      <td>4500.0</td>\n",
       "      <td>8500.0</td>\n",
       "      <td>600000.0</td>\n",
       "    </tr>\n",
       "    <tr>\n",
       "      <th>Botafogo</th>\n",
       "      <td>873.0</td>\n",
       "      <td>8791.83</td>\n",
       "      <td>152202.41</td>\n",
       "      <td>700.0</td>\n",
       "      <td>2200.0</td>\n",
       "      <td>3000.0</td>\n",
       "      <td>4350.0</td>\n",
       "      <td>4500000.0</td>\n",
       "    </tr>\n",
       "    <tr>\n",
       "      <th>Copacabana</th>\n",
       "      <td>2644.0</td>\n",
       "      <td>4126.68</td>\n",
       "      <td>3611.41</td>\n",
       "      <td>100.0</td>\n",
       "      <td>2000.0</td>\n",
       "      <td>3000.0</td>\n",
       "      <td>4800.0</td>\n",
       "      <td>35000.0</td>\n",
       "    </tr>\n",
       "    <tr>\n",
       "      <th>Flamengo</th>\n",
       "      <td>714.0</td>\n",
       "      <td>4113.53</td>\n",
       "      <td>3839.13</td>\n",
       "      <td>800.0</td>\n",
       "      <td>1900.0</td>\n",
       "      <td>2900.0</td>\n",
       "      <td>4975.0</td>\n",
       "      <td>35000.0</td>\n",
       "    </tr>\n",
       "    <tr>\n",
       "      <th>Ipanema</th>\n",
       "      <td>1764.0</td>\n",
       "      <td>9352.00</td>\n",
       "      <td>8219.72</td>\n",
       "      <td>1200.0</td>\n",
       "      <td>4500.0</td>\n",
       "      <td>7000.0</td>\n",
       "      <td>11000.0</td>\n",
       "      <td>90000.0</td>\n",
       "    </tr>\n",
       "    <tr>\n",
       "      <th>Leblon</th>\n",
       "      <td>1258.0</td>\n",
       "      <td>8746.34</td>\n",
       "      <td>7004.04</td>\n",
       "      <td>100.0</td>\n",
       "      <td>4500.0</td>\n",
       "      <td>7000.0</td>\n",
       "      <td>10500.0</td>\n",
       "      <td>100000.0</td>\n",
       "    </tr>\n",
       "    <tr>\n",
       "      <th>Tijuca</th>\n",
       "      <td>1100.0</td>\n",
       "      <td>2043.52</td>\n",
       "      <td>1664.34</td>\n",
       "      <td>750.0</td>\n",
       "      <td>1500.0</td>\n",
       "      <td>1800.0</td>\n",
       "      <td>2300.0</td>\n",
       "      <td>45000.0</td>\n",
       "    </tr>\n",
       "  </tbody>\n",
       "</table>\n",
       "</div>"
      ],
      "text/plain": [
       "                  count     mean        std     min     25%     50%      75%  \\\n",
       "Bairro                                                                         \n",
       "Barra da Tijuca  3863.0  7069.55   11874.15   800.0  2500.0  4500.0   8500.0   \n",
       "Botafogo          873.0  8791.83  152202.41   700.0  2200.0  3000.0   4350.0   \n",
       "Copacabana       2644.0  4126.68    3611.41   100.0  2000.0  3000.0   4800.0   \n",
       "Flamengo          714.0  4113.53    3839.13   800.0  1900.0  2900.0   4975.0   \n",
       "Ipanema          1764.0  9352.00    8219.72  1200.0  4500.0  7000.0  11000.0   \n",
       "Leblon           1258.0  8746.34    7004.04   100.0  4500.0  7000.0  10500.0   \n",
       "Tijuca           1100.0  2043.52    1664.34   750.0  1500.0  1800.0   2300.0   \n",
       "\n",
       "                       max  \n",
       "Bairro                      \n",
       "Barra da Tijuca   600000.0  \n",
       "Botafogo         4500000.0  \n",
       "Copacabana         35000.0  \n",
       "Flamengo           35000.0  \n",
       "Ipanema            90000.0  \n",
       "Leblon            100000.0  \n",
       "Tijuca             45000.0  "
      ]
     },
     "execution_count": 43,
     "metadata": {},
     "output_type": "execute_result"
    }
   ],
   "source": [
    "grupo_bairro['Valor'].describe().round(2)"
   ]
  },
  {
   "cell_type": "code",
   "execution_count": 44,
   "id": "72dc3c09",
   "metadata": {},
   "outputs": [
    {
     "data": {
      "text/html": [
       "<div>\n",
       "<style scoped>\n",
       "    .dataframe tbody tr th:only-of-type {\n",
       "        vertical-align: middle;\n",
       "    }\n",
       "\n",
       "    .dataframe tbody tr th {\n",
       "        vertical-align: top;\n",
       "    }\n",
       "\n",
       "    .dataframe thead th {\n",
       "        text-align: right;\n",
       "    }\n",
       "</style>\n",
       "<table border=\"1\" class=\"dataframe\">\n",
       "  <thead>\n",
       "    <tr style=\"text-align: right;\">\n",
       "      <th></th>\n",
       "      <th>min</th>\n",
       "      <th>max</th>\n",
       "      <th>sum</th>\n",
       "    </tr>\n",
       "    <tr>\n",
       "      <th>Bairro</th>\n",
       "      <th></th>\n",
       "      <th></th>\n",
       "      <th></th>\n",
       "    </tr>\n",
       "  </thead>\n",
       "  <tbody>\n",
       "    <tr>\n",
       "      <th>Barra da Tijuca</th>\n",
       "      <td>800.0</td>\n",
       "      <td>600000.0</td>\n",
       "      <td>27309683.0</td>\n",
       "    </tr>\n",
       "    <tr>\n",
       "      <th>Botafogo</th>\n",
       "      <td>700.0</td>\n",
       "      <td>4500000.0</td>\n",
       "      <td>7675266.0</td>\n",
       "    </tr>\n",
       "    <tr>\n",
       "      <th>Copacabana</th>\n",
       "      <td>100.0</td>\n",
       "      <td>35000.0</td>\n",
       "      <td>10910934.0</td>\n",
       "    </tr>\n",
       "    <tr>\n",
       "      <th>Flamengo</th>\n",
       "      <td>800.0</td>\n",
       "      <td>35000.0</td>\n",
       "      <td>2937058.0</td>\n",
       "    </tr>\n",
       "    <tr>\n",
       "      <th>Ipanema</th>\n",
       "      <td>1200.0</td>\n",
       "      <td>90000.0</td>\n",
       "      <td>16496930.0</td>\n",
       "    </tr>\n",
       "    <tr>\n",
       "      <th>Leblon</th>\n",
       "      <td>100.0</td>\n",
       "      <td>100000.0</td>\n",
       "      <td>11002902.0</td>\n",
       "    </tr>\n",
       "    <tr>\n",
       "      <th>Tijuca</th>\n",
       "      <td>750.0</td>\n",
       "      <td>45000.0</td>\n",
       "      <td>2247872.0</td>\n",
       "    </tr>\n",
       "  </tbody>\n",
       "</table>\n",
       "</div>"
      ],
      "text/plain": [
       "                    min        max         sum\n",
       "Bairro                                        \n",
       "Barra da Tijuca   800.0   600000.0  27309683.0\n",
       "Botafogo          700.0  4500000.0   7675266.0\n",
       "Copacabana        100.0    35000.0  10910934.0\n",
       "Flamengo          800.0    35000.0   2937058.0\n",
       "Ipanema          1200.0    90000.0  16496930.0\n",
       "Leblon            100.0   100000.0  11002902.0\n",
       "Tijuca            750.0    45000.0   2247872.0"
      ]
     },
     "execution_count": 44,
     "metadata": {},
     "output_type": "execute_result"
    }
   ],
   "source": [
    "grupo_bairro['Valor'].aggregate(['min', 'max', 'sum'])"
   ]
  },
  {
   "cell_type": "code",
   "execution_count": 48,
   "id": "bf3292ee",
   "metadata": {},
   "outputs": [
    {
     "data": {
      "text/html": [
       "<div>\n",
       "<style scoped>\n",
       "    .dataframe tbody tr th:only-of-type {\n",
       "        vertical-align: middle;\n",
       "    }\n",
       "\n",
       "    .dataframe tbody tr th {\n",
       "        vertical-align: top;\n",
       "    }\n",
       "\n",
       "    .dataframe thead th {\n",
       "        text-align: right;\n",
       "    }\n",
       "</style>\n",
       "<table border=\"1\" class=\"dataframe\">\n",
       "  <thead>\n",
       "    <tr style=\"text-align: right;\">\n",
       "      <th></th>\n",
       "      <th>Mínimo</th>\n",
       "      <th>Maximo</th>\n",
       "      <th>Soma</th>\n",
       "    </tr>\n",
       "    <tr>\n",
       "      <th>Bairro</th>\n",
       "      <th></th>\n",
       "      <th></th>\n",
       "      <th></th>\n",
       "    </tr>\n",
       "  </thead>\n",
       "  <tbody>\n",
       "    <tr>\n",
       "      <th>Barra da Tijuca</th>\n",
       "      <td>800.0</td>\n",
       "      <td>600000.0</td>\n",
       "      <td>27309683.0</td>\n",
       "    </tr>\n",
       "    <tr>\n",
       "      <th>Botafogo</th>\n",
       "      <td>700.0</td>\n",
       "      <td>4500000.0</td>\n",
       "      <td>7675266.0</td>\n",
       "    </tr>\n",
       "    <tr>\n",
       "      <th>Copacabana</th>\n",
       "      <td>100.0</td>\n",
       "      <td>35000.0</td>\n",
       "      <td>10910934.0</td>\n",
       "    </tr>\n",
       "    <tr>\n",
       "      <th>Flamengo</th>\n",
       "      <td>800.0</td>\n",
       "      <td>35000.0</td>\n",
       "      <td>2937058.0</td>\n",
       "    </tr>\n",
       "    <tr>\n",
       "      <th>Ipanema</th>\n",
       "      <td>1200.0</td>\n",
       "      <td>90000.0</td>\n",
       "      <td>16496930.0</td>\n",
       "    </tr>\n",
       "    <tr>\n",
       "      <th>Leblon</th>\n",
       "      <td>100.0</td>\n",
       "      <td>100000.0</td>\n",
       "      <td>11002902.0</td>\n",
       "    </tr>\n",
       "    <tr>\n",
       "      <th>Tijuca</th>\n",
       "      <td>750.0</td>\n",
       "      <td>45000.0</td>\n",
       "      <td>2247872.0</td>\n",
       "    </tr>\n",
       "  </tbody>\n",
       "</table>\n",
       "</div>"
      ],
      "text/plain": [
       "                 Mínimo     Maximo        Soma\n",
       "Bairro                                        \n",
       "Barra da Tijuca   800.0   600000.0  27309683.0\n",
       "Botafogo          700.0  4500000.0   7675266.0\n",
       "Copacabana        100.0    35000.0  10910934.0\n",
       "Flamengo          800.0    35000.0   2937058.0\n",
       "Ipanema          1200.0    90000.0  16496930.0\n",
       "Leblon            100.0   100000.0  11002902.0\n",
       "Tijuca            750.0    45000.0   2247872.0"
      ]
     },
     "execution_count": 48,
     "metadata": {},
     "output_type": "execute_result"
    }
   ],
   "source": [
    "grupo_bairro['Valor'].aggregate(['min', 'max', 'sum']).rename(columns = {'min': 'Mínimo', 'max': 'Maximo','sum': 'Soma'}) #Renomeando colunas com o rename"
   ]
  },
  {
   "cell_type": "code",
   "execution_count": 51,
   "id": "7a7d3f84",
   "metadata": {},
   "outputs": [],
   "source": [
    "%matplotlib inline\n",
    "import matplotlib.pyplot as plt\n",
    "plt.rc('figure', figsize = (20,10))"
   ]
  },
  {
   "cell_type": "code",
   "execution_count": 71,
   "id": "f76e5b8e",
   "metadata": {},
   "outputs": [
    {
     "data": {
      "text/plain": [
       "Text(0.5, 1.0, 'Valor médio do aluguel por bairro')"
      ]
     },
     "execution_count": 71,
     "metadata": {},
     "output_type": "execute_result"
    },
    {
     "data": {
      "image/png": "[encoded data removed]",
      "text/plain": [
       "<Figure size 1440x720 with 1 Axes>"
      ]
     },
     "metadata": {
      "needs_background": "light"
     },
     "output_type": "display_data"
    }
   ],
   "source": [
    "fig = grupo_bairro['Valor'].mean().plot.bar(color = 'grey')\n",
    "fig.set_ylabel('Valor do Aluguel') #Dando nome pro eixo Y\n",
    "fig.set_title('Valor médio do aluguel por bairro', {'fontsize': 22}) #Dando titulo\n"
   ]
  },
  {
   "cell_type": "code",
   "execution_count": 73,
   "id": "71fa0326",
   "metadata": {},
   "outputs": [
    {
     "data": {
      "image/png": "[encoded data removed]",
      "text/plain": [
       "<Figure size 1440x720 with 1 Axes>"
      ]
     },
     "metadata": {
      "needs_background": "light"
     },
     "output_type": "display_data"
    }
   ],
   "source": [
    "fig = grupo_bairro['Valor'].max().plot.bar(color = 'gray')"
   ]
  },
  {
   "cell_type": "code",
   "execution_count": 63,
   "id": "ad5a42ec",
   "metadata": {},
   "outputs": [
    {
     "data": {
      "text/plain": [
       "Text(0.5, 1.0, 'Valor médio do aluguel por bairro')"
      ]
     },
     "execution_count": 63,
     "metadata": {},
     "output_type": "execute_result"
    }
   ],
   "source": []
  },
  {
   "cell_type": "code",
   "execution_count": 65,
   "id": "fcc6a0b9",
   "metadata": {},
   "outputs": [
    {
     "data": {
      "image/png": "[encoded data removed]",
      "text/plain": [
       "<Figure size 1440x720 with 1 Axes>"
      ]
     },
     "metadata": {
      "needs_background": "light"
     },
     "output_type": "display_data"
    }
   ],
   "source": []
  },
  {
   "cell_type": "code",
   "execution_count": null,
   "id": "d67ecea2",
   "metadata": {},
   "outputs": [],
   "source": []
  }
 ],
 "metadata": {
  "kernelspec": {
   "display_name": "Python 3 (ipykernel)",
   "language": "python",
   "name": "python3"
  },
  "language_info": {
   "codemirror_mode": {
    "name": "ipython",
    "version": 3
   },
   "file_extension": ".py",
   "mimetype": "text/x-python",
   "name": "python",
   "nbconvert_exporter": "python",
   "pygments_lexer": "ipython3",
   "version": "3.9.7"
  }
 },
 "nbformat": 4,
 "nbformat_minor": 5
}

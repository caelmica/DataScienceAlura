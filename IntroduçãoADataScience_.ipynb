{
  "nbformat": 4,
  "nbformat_minor": 0,
  "metadata": {
    "colab": {
      "name": "IntroduçãoADataScience  .ipynb",
      "provenance": [],
      "authorship_tag": "ABX9TyPj97iHTHEwG4OFnzgVKAsW",
      "include_colab_link": true
    },
    "kernelspec": {
      "name": "python3",
      "display_name": "Python 3"
    },
    "language_info": {
      "name": "python"
    }
  },
  "cells": [
    {
      "cell_type": "markdown",
      "metadata": {
        "id": "view-in-github",
        "colab_type": "text"
      },
      "source": [
        "<a href=\"https://colab.research.google.com/github/caelmica/DataScienceAlura/blob/main/Introdu%C3%A7%C3%A3oADataScience_.ipynb\" target=\"_parent\"><img src=\"https://colab.research.google.com/assets/colab-badge.svg\" alt=\"Open In Colab\"/></a>"
      ]
    },
    {
      "cell_type": "code",
      "execution_count": null,
      "metadata": {
        "id": "u1KvPQvb502I"
      },
      "outputs": [],
      "source": [
        ""
      ]
    }
  ]
}